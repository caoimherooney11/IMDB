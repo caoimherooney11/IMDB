{
 "cells": [
  {
   "cell_type": "markdown",
   "id": "f0f8b27a",
   "metadata": {},
   "source": [
    "# Sentiement Analysis of IMDB Movie Reviews\n",
    "## Caoimhe Rooney\n",
    "\n",
    "Problem objective:\n",
    "Do a thorough Exploratory Data Analysis of the dataset and report the final performance metrics for your approach. Suggest ways in which you can improve the model.\n",
    "\n",
    "NLP Challenge: IMDB Dataset of 50K Movie Reviews to perform Sentiment analysis"
   ]
  },
  {
   "cell_type": "code",
   "execution_count": 42,
   "id": "1a0affc8",
   "metadata": {},
   "outputs": [],
   "source": [
    "import numpy as np\n",
    "import pandas as pd\n",
    "import seaborn as sns\n",
    "import matplotlib.pyplot as plt\n",
    "import nltk\n",
    "\n",
    "from sklearn.feature_extraction.text import CountVectorizer\n",
    "# from sklearn.preprocessing import LabelBinarizer\n",
    "from nltk.corpus import stopwords\n",
    "from nltk.stem.porter import PorterStemmer\n",
    "# from wordcloud import WordCloud,STOPWORDS\n",
    "# from nltk.stem import WordNetLemmatizer\n",
    "from nltk.tokenize import word_tokenize,sent_tokenize\n",
    "# from bs4 import BeautifulSoup\n",
    "# import spacy\n",
    "import re,string,unicodedata\n",
    "from nltk.tokenize.toktok import ToktokTokenizer\n",
    "# from nltk.stem import LancasterStemmer,WordNetLemmatizer\n",
    "from sklearn.linear_model import LogisticRegression,SGDClassifier\n",
    "from sklearn.ensemble import RandomForestClassifier\n",
    "from sklearn.tree import DecisionTreeClassifier\n",
    "from sklearn.naive_bayes import MultinomialNB\n",
    "from sklearn.naive_bayes import GaussianNB\n",
    "from sklearn.svm import SVC\n",
    "from textblob import TextBlob,Word\n",
    "from sklearn.metrics import classification_report,confusion_matrix,accuracy_score,f1_score\n",
    "\n",
    "import warnings\n",
    "warnings.filterwarnings('ignore')"
   ]
  },
  {
   "cell_type": "markdown",
   "id": "6a8ea5e5",
   "metadata": {},
   "source": [
    "### Import training dataset"
   ]
  },
  {
   "cell_type": "code",
   "execution_count": 2,
   "id": "51b31007",
   "metadata": {},
   "outputs": [
    {
     "name": "stdout",
     "output_type": "stream",
     "text": [
      "(50000, 2)\n"
     ]
    },
    {
     "data": {
      "text/html": [
       "<div>\n",
       "<style scoped>\n",
       "    .dataframe tbody tr th:only-of-type {\n",
       "        vertical-align: middle;\n",
       "    }\n",
       "\n",
       "    .dataframe tbody tr th {\n",
       "        vertical-align: top;\n",
       "    }\n",
       "\n",
       "    .dataframe thead th {\n",
       "        text-align: right;\n",
       "    }\n",
       "</style>\n",
       "<table border=\"1\" class=\"dataframe\">\n",
       "  <thead>\n",
       "    <tr style=\"text-align: right;\">\n",
       "      <th></th>\n",
       "      <th>review</th>\n",
       "      <th>sentiment</th>\n",
       "    </tr>\n",
       "  </thead>\n",
       "  <tbody>\n",
       "    <tr>\n",
       "      <th>0</th>\n",
       "      <td>One of the other reviewers has mentioned that ...</td>\n",
       "      <td>positive</td>\n",
       "    </tr>\n",
       "    <tr>\n",
       "      <th>1</th>\n",
       "      <td>A wonderful little production. &lt;br /&gt;&lt;br /&gt;The...</td>\n",
       "      <td>positive</td>\n",
       "    </tr>\n",
       "    <tr>\n",
       "      <th>2</th>\n",
       "      <td>I thought this was a wonderful way to spend ti...</td>\n",
       "      <td>positive</td>\n",
       "    </tr>\n",
       "    <tr>\n",
       "      <th>3</th>\n",
       "      <td>Basically there's a family where a little boy ...</td>\n",
       "      <td>negative</td>\n",
       "    </tr>\n",
       "    <tr>\n",
       "      <th>4</th>\n",
       "      <td>Petter Mattei's \"Love in the Time of Money\" is...</td>\n",
       "      <td>positive</td>\n",
       "    </tr>\n",
       "    <tr>\n",
       "      <th>5</th>\n",
       "      <td>Probably my all-time favorite movie, a story o...</td>\n",
       "      <td>positive</td>\n",
       "    </tr>\n",
       "    <tr>\n",
       "      <th>6</th>\n",
       "      <td>I sure would like to see a resurrection of a u...</td>\n",
       "      <td>positive</td>\n",
       "    </tr>\n",
       "    <tr>\n",
       "      <th>7</th>\n",
       "      <td>This show was an amazing, fresh &amp; innovative i...</td>\n",
       "      <td>negative</td>\n",
       "    </tr>\n",
       "    <tr>\n",
       "      <th>8</th>\n",
       "      <td>Encouraged by the positive comments about this...</td>\n",
       "      <td>negative</td>\n",
       "    </tr>\n",
       "    <tr>\n",
       "      <th>9</th>\n",
       "      <td>If you like original gut wrenching laughter yo...</td>\n",
       "      <td>positive</td>\n",
       "    </tr>\n",
       "    <tr>\n",
       "      <th>10</th>\n",
       "      <td>Phil the Alien is one of those quirky films wh...</td>\n",
       "      <td>negative</td>\n",
       "    </tr>\n",
       "    <tr>\n",
       "      <th>11</th>\n",
       "      <td>I saw this movie when I was about 12 when it c...</td>\n",
       "      <td>negative</td>\n",
       "    </tr>\n",
       "    <tr>\n",
       "      <th>12</th>\n",
       "      <td>So im not a big fan of Boll's work but then ag...</td>\n",
       "      <td>negative</td>\n",
       "    </tr>\n",
       "    <tr>\n",
       "      <th>13</th>\n",
       "      <td>The cast played Shakespeare.&lt;br /&gt;&lt;br /&gt;Shakes...</td>\n",
       "      <td>negative</td>\n",
       "    </tr>\n",
       "    <tr>\n",
       "      <th>14</th>\n",
       "      <td>This a fantastic movie of three prisoners who ...</td>\n",
       "      <td>positive</td>\n",
       "    </tr>\n",
       "  </tbody>\n",
       "</table>\n",
       "</div>"
      ],
      "text/plain": [
       "                                               review sentiment\n",
       "0   One of the other reviewers has mentioned that ...  positive\n",
       "1   A wonderful little production. <br /><br />The...  positive\n",
       "2   I thought this was a wonderful way to spend ti...  positive\n",
       "3   Basically there's a family where a little boy ...  negative\n",
       "4   Petter Mattei's \"Love in the Time of Money\" is...  positive\n",
       "5   Probably my all-time favorite movie, a story o...  positive\n",
       "6   I sure would like to see a resurrection of a u...  positive\n",
       "7   This show was an amazing, fresh & innovative i...  negative\n",
       "8   Encouraged by the positive comments about this...  negative\n",
       "9   If you like original gut wrenching laughter yo...  positive\n",
       "10  Phil the Alien is one of those quirky films wh...  negative\n",
       "11  I saw this movie when I was about 12 when it c...  negative\n",
       "12  So im not a big fan of Boll's work but then ag...  negative\n",
       "13  The cast played Shakespeare.<br /><br />Shakes...  negative\n",
       "14  This a fantastic movie of three prisoners who ...  positive"
      ]
     },
     "execution_count": 2,
     "metadata": {},
     "output_type": "execute_result"
    }
   ],
   "source": [
    "# import the training data\n",
    "imdb_data=pd.read_csv('data/IMDB Dataset.csv')\n",
    "print(imdb_data.shape)\n",
    "\n",
    "# view first 15 entries of dataset\n",
    "imdb_data.head(15)"
   ]
  },
  {
   "cell_type": "code",
   "execution_count": 3,
   "id": "040ee649",
   "metadata": {},
   "outputs": [
    {
     "data": {
      "text/html": [
       "<div>\n",
       "<style scoped>\n",
       "    .dataframe tbody tr th:only-of-type {\n",
       "        vertical-align: middle;\n",
       "    }\n",
       "\n",
       "    .dataframe tbody tr th {\n",
       "        vertical-align: top;\n",
       "    }\n",
       "\n",
       "    .dataframe thead th {\n",
       "        text-align: right;\n",
       "    }\n",
       "</style>\n",
       "<table border=\"1\" class=\"dataframe\">\n",
       "  <thead>\n",
       "    <tr style=\"text-align: right;\">\n",
       "      <th></th>\n",
       "      <th>review</th>\n",
       "      <th>sentiment</th>\n",
       "    </tr>\n",
       "  </thead>\n",
       "  <tbody>\n",
       "    <tr>\n",
       "      <th>count</th>\n",
       "      <td>50000</td>\n",
       "      <td>50000</td>\n",
       "    </tr>\n",
       "    <tr>\n",
       "      <th>unique</th>\n",
       "      <td>49582</td>\n",
       "      <td>2</td>\n",
       "    </tr>\n",
       "    <tr>\n",
       "      <th>top</th>\n",
       "      <td>Loved today's show!!! It was a variety and not...</td>\n",
       "      <td>positive</td>\n",
       "    </tr>\n",
       "    <tr>\n",
       "      <th>freq</th>\n",
       "      <td>5</td>\n",
       "      <td>25000</td>\n",
       "    </tr>\n",
       "  </tbody>\n",
       "</table>\n",
       "</div>"
      ],
      "text/plain": [
       "                                                   review sentiment\n",
       "count                                               50000     50000\n",
       "unique                                              49582         2\n",
       "top     Loved today's show!!! It was a variety and not...  positive\n",
       "freq                                                    5     25000"
      ]
     },
     "execution_count": 3,
     "metadata": {},
     "output_type": "execute_result"
    }
   ],
   "source": [
    "# Print summary of the dataset\n",
    "imdb_data.describe()"
   ]
  },
  {
   "cell_type": "code",
   "execution_count": 4,
   "id": "7640dccc",
   "metadata": {},
   "outputs": [],
   "source": [
    "# remove duplicates\n",
    "imdb_data['dup'] = imdb_data.duplicated(subset=None,keep='first')\n",
    "del imdb_data['dup']"
   ]
  },
  {
   "cell_type": "code",
   "execution_count": 5,
   "id": "a32d1a28",
   "metadata": {},
   "outputs": [
    {
     "data": {
      "text/plain": [
       "positive    25000\n",
       "negative    25000\n",
       "Name: sentiment, dtype: int64"
      ]
     },
     "execution_count": 5,
     "metadata": {},
     "output_type": "execute_result"
    }
   ],
   "source": [
    "# Count how many of each sentiment is present in the dataset.\n",
    "imdb_data['sentiment'].value_counts()"
   ]
  },
  {
   "cell_type": "markdown",
   "id": "984f1952",
   "metadata": {},
   "source": [
    "The dataset includes a balance between positive and negative sentiments."
   ]
  },
  {
   "cell_type": "code",
   "execution_count": 6,
   "id": "60ab4fdc",
   "metadata": {},
   "outputs": [
    {
     "data": {
      "text/plain": [
       "<AxesSubplot:title={'center':'Pie chart of Sentiment Class'}, ylabel='sentiment'>"
      ]
     },
     "execution_count": 6,
     "metadata": {},
     "output_type": "execute_result"
    },
    {
     "data": {
      "image/png": "[encoded data removed]",
      "text/plain": [
       "<Figure size 500x500 with 1 Axes>"
      ]
     },
     "metadata": {},
     "output_type": "display_data"
    }
   ],
   "source": [
    "# visualise class balance\n",
    "pie=pd.DataFrame(imdb_data['sentiment'].replace(0,'Negative').replace(1,'Positive').value_counts())\n",
    "pie.reset_index(inplace=True)\n",
    "pie.plot(kind='pie', title='Pie chart of Sentiment Class',y = 'sentiment', \n",
    "          autopct='%1.1f%%', shadow=False, labels=pie['index'], legend = False, fontsize=14, figsize=(5,5))"
   ]
  },
  {
   "cell_type": "markdown",
   "id": "3deb1174",
   "metadata": {},
   "source": [
    "### Pre-processing\n",
    "We wish to pre-process the dataset to improve the quality of the text and make it suitable for machines to process.\n",
    "\n",
    "We will clean the text by \n",
    "- remove html tags,\n",
    "- remove URLs,\n",
    "- remove punctuation,\n",
    "- removing special characters,\n",
    "- set to lowercase,\n",
    "- removing stopwords,\n",
    "- stemming."
   ]
  },
  {
   "cell_type": "markdown",
   "id": "7e17d0c4",
   "metadata": {},
   "source": [
    "### Remove html tags"
   ]
  },
  {
   "cell_type": "code",
   "execution_count": 11,
   "id": "269470db",
   "metadata": {},
   "outputs": [],
   "source": [
    "# Removing html tags\n",
    "def strip_html_tags(text):\n",
    "    html = re.compile('<.*?>') \n",
    "    text = html.sub(r'',text) #Removing html tags\n",
    "    return text"
   ]
  },
  {
   "cell_type": "code",
   "execution_count": 12,
   "id": "c9b9b1a5",
   "metadata": {},
   "outputs": [
    {
     "name": "stdout",
     "output_type": "stream",
     "text": [
      "Before removing HTML tags: A wonderful little production. <br /><br />The filming technique is ve\n",
      "After removing HTML tags : A wonderful little production. The filming technique is ve\n"
     ]
    }
   ],
   "source": [
    "# example of html tag removal\n",
    "text = imdb_data['review'][1][:70]\n",
    "print(f\"Before removing HTML tags: {text}\")\n",
    "new_text = strip_html_tags(text)\n",
    "print(f\"After removing HTML tags : {new_text}\")"
   ]
  },
  {
   "cell_type": "markdown",
   "id": "3f75b26e",
   "metadata": {},
   "source": [
    "### Remove URLs"
   ]
  },
  {
   "cell_type": "code",
   "execution_count": 9,
   "id": "15ec1971",
   "metadata": {},
   "outputs": [],
   "source": [
    "# Removing URLs\n",
    "def remove_url(text):\n",
    "    re_url = re.compile('https?://\\S+|www\\.\\S+')\n",
    "    return re_url.sub('', text)"
   ]
  },
  {
   "cell_type": "code",
   "execution_count": 13,
   "id": "6a61588b",
   "metadata": {},
   "outputs": [
    {
     "name": "stdout",
     "output_type": "stream",
     "text": [
      "Text before removing URL: My website link: https://www.mathematigals.com/caoimhe-rooney\n",
      "Text after removing URL : My website link: \n"
     ]
    }
   ],
   "source": [
    "# example of URL removal\n",
    "text = 'My website link: https://www.mathematigals.com/caoimhe-rooney'\n",
    "print(f'Text before removing URL: {text}')\n",
    "print(f'Text after removing URL : {remove_url(text)}')"
   ]
  },
  {
   "cell_type": "markdown",
   "id": "8d5036e1",
   "metadata": {},
   "source": [
    "### Remove punctuation"
   ]
  },
  {
   "cell_type": "code",
   "execution_count": 15,
   "id": "637a67e5",
   "metadata": {},
   "outputs": [],
   "source": [
    "# remove punctuation\n",
    "import string\n",
    "exclude = string.punctuation\n",
    "\n",
    "def remove_punc(text):\n",
    "    text = text.translate(str.maketrans('', '', exclude))\n",
    "    return text"
   ]
  },
  {
   "cell_type": "code",
   "execution_count": 16,
   "id": "11541c00",
   "metadata": {},
   "outputs": [
    {
     "name": "stdout",
     "output_type": "stream",
     "text": [
      "Text before punctuation: Hello! My name is Caoimhe.\n",
      "Text after punctuation : Hello My name is Caoimhe\n"
     ]
    }
   ],
   "source": [
    "# example of punctuation removal\n",
    "text = 'Hello! My name is Caoimhe.'\n",
    "print(f'Text before punctuation: {text}')\n",
    "text_wihout_punc = remove_punc(text)\n",
    "print(f'Text after punctuation : {text_wihout_punc}')"
   ]
  },
  {
   "cell_type": "markdown",
   "id": "ff8575ae",
   "metadata": {},
   "source": [
    "### Remove special characters"
   ]
  },
  {
   "cell_type": "code",
   "execution_count": 17,
   "id": "c805072f",
   "metadata": {},
   "outputs": [],
   "source": [
    "def remove_special_characters(text):\n",
    "#     pattern=r'[^a-zA-Z0-9\\s]'\n",
    "    text=re.sub(r'[^a-zA-Z0-9\\s]',' ',text)\n",
    "    return text"
   ]
  },
  {
   "cell_type": "markdown",
   "id": "86e2ec53",
   "metadata": {},
   "source": [
    "### Set to lowercase"
   ]
  },
  {
   "cell_type": "code",
   "execution_count": 18,
   "id": "68d92250",
   "metadata": {},
   "outputs": [],
   "source": [
    "def to_lower(text):\n",
    "    return text.lower()  "
   ]
  },
  {
   "cell_type": "code",
   "execution_count": 19,
   "id": "72b7542a",
   "metadata": {},
   "outputs": [
    {
     "name": "stdout",
     "output_type": "stream",
     "text": [
      "Before applying lower casing: Hello! My name is Caoimhe.\n",
      "After applying lower casing : hello! my name is caoimhe.\n"
     ]
    }
   ],
   "source": [
    "# example of setting to lowercase\n",
    "print(f\"Before applying lower casing: {text}\")\n",
    "new_text = to_lower(text)\n",
    "print(f\"After applying lower casing : {new_text}\")"
   ]
  },
  {
   "cell_type": "markdown",
   "id": "7c4c4587",
   "metadata": {},
   "source": [
    "### Remove spelling errors"
   ]
  },
  {
   "cell_type": "code",
   "execution_count": 20,
   "id": "5295ab4d",
   "metadata": {},
   "outputs": [],
   "source": [
    "from textblob import TextBlob\n",
    "\n",
    "def fix_spelling(text):\n",
    "    text_ = TextBlob(text)\n",
    "    return text_.correct().string"
   ]
  },
  {
   "cell_type": "code",
   "execution_count": 21,
   "id": "64461fc7",
   "metadata": {},
   "outputs": [
    {
     "name": "stdout",
     "output_type": "stream",
     "text": [
      "Correct text: this sentence has lots of spelling errors\n"
     ]
    }
   ],
   "source": [
    "# example of correcting spelling\n",
    "text = 'thiss sentance has lotts of spelingg erors'\n",
    "text_ = fix_spelling(text)\n",
    "print(f'Correct text: {text_}')"
   ]
  },
  {
   "cell_type": "markdown",
   "id": "981877ac",
   "metadata": {},
   "source": [
    "### Removing stopwords"
   ]
  },
  {
   "cell_type": "code",
   "execution_count": 22,
   "id": "c5209e9e",
   "metadata": {},
   "outputs": [],
   "source": [
    "sw = stopwords.words('english')\n",
    "\n",
    "#removing the stopwords\n",
    "def remove_stopwords(text):\n",
    "    new_text = []\n",
    "    for word in text.split():\n",
    "        if word in sw:\n",
    "            continue\n",
    "        else:\n",
    "            new_text.append(word)    \n",
    "    output = ' '.join(new_text)\n",
    "    return output"
   ]
  },
  {
   "cell_type": "code",
   "execution_count": 23,
   "id": "d51de0bf",
   "metadata": {
    "scrolled": true
   },
   "outputs": [
    {
     "name": "stdout",
     "output_type": "stream",
     "text": [
      "Text before removing stop words: We want to remove the stop words that are commonly used words in a language\n",
      "Text after removing stop words : We want remove stop words commonly used words language\n"
     ]
    }
   ],
   "source": [
    "# example of removing stopwords\n",
    "text = 'We want to remove the stop words that are commonly used words in a language'\n",
    "\n",
    "print(f'Text before removing stop words: {text}')\n",
    "print(f'Text after removing stop words : {remove_stopwords(text)}')"
   ]
  },
  {
   "cell_type": "markdown",
   "id": "7f923e13",
   "metadata": {},
   "source": [
    "### Text stemming"
   ]
  },
  {
   "cell_type": "code",
   "execution_count": 24,
   "id": "8003ce13",
   "metadata": {},
   "outputs": [],
   "source": [
    "# Stemming the text\n",
    "def stemmer(text):\n",
    "    ps = nltk.porter.PorterStemmer()\n",
    "    text= ' '.join([ps.stem(word) for word in text.split()])\n",
    "    return text"
   ]
  },
  {
   "cell_type": "code",
   "execution_count": 25,
   "id": "41b2c72e",
   "metadata": {},
   "outputs": [
    {
     "data": {
      "text/plain": [
       "'stem stem stem stem'"
      ]
     },
     "execution_count": 25,
     "metadata": {},
     "output_type": "execute_result"
    }
   ],
   "source": [
    "# example of stemming\n",
    "text = 'stem stems stemmed stemming'\n",
    "stemmer(text)"
   ]
  },
  {
   "cell_type": "markdown",
   "id": "1d4a0216",
   "metadata": {},
   "source": [
    "### Tokenization\n",
    "Process of breaking data into smaller chunks of information.\n",
    "We can use tokenization to separate sentences or words."
   ]
  },
  {
   "cell_type": "code",
   "execution_count": 26,
   "id": "61f5a224",
   "metadata": {},
   "outputs": [],
   "source": [
    "# tokenization of text\n",
    "tokenizer = ToktokTokenizer()\n",
    "\n",
    "def tokenize(text):\n",
    "    tokens = tokenizer.tokenize(text)\n",
    "    tokens = [token.strip() for token in tokens]\n",
    "    return tokens"
   ]
  },
  {
   "cell_type": "code",
   "execution_count": 27,
   "id": "96e89159",
   "metadata": {},
   "outputs": [
    {
     "name": "stdout",
     "output_type": "stream",
     "text": [
      "After applying tokenizing : ['stem', 'stems', 'stemmed', 'stemming']\n"
     ]
    }
   ],
   "source": [
    "# example of tokenization\n",
    "new_text = tokenize(text)\n",
    "print(f\"After applying tokenizing : {new_text}\")"
   ]
  },
  {
   "cell_type": "markdown",
   "id": "82ec45ae",
   "metadata": {},
   "source": [
    "## Apply the pre-processing steps to the reviews"
   ]
  },
  {
   "cell_type": "code",
   "execution_count": 28,
   "id": "8964eab8",
   "metadata": {},
   "outputs": [],
   "source": [
    "# Clean the dataset with functions defined above\n",
    "def clean(dataset, html_tags=True, urls=True, punctuation=True, special_char=True, \n",
    "          lower=True, spelling=True, stemming=True, stopwords=True, tokens=True):\n",
    "    if html_tags:\n",
    "        print('Stripping html tags...')\n",
    "        dataset = dataset.apply(strip_html_tags)\n",
    "\n",
    "    if urls:\n",
    "        print('Removing URLs...')\n",
    "        dataset = dataset.apply(remove_url)\n",
    "        \n",
    "    if punctuation:\n",
    "        print('Removing punctuation...')\n",
    "        dataset = dataset.apply(remove_punc)\n",
    "        \n",
    "    if special_char:\n",
    "        print('Removing special characters...')\n",
    "        dataset = dataset.apply(remove_special_characters)\n",
    "    \n",
    "    if lower:\n",
    "        print('Converting to lower case...')\n",
    "        dataset = dataset.apply(to_lower)\n",
    "        \n",
    "    if spelling:\n",
    "        print('Removing spelling errors...')\n",
    "        dataset = dataset.apply(fix_spelling)\n",
    "        \n",
    "    if stopwords:\n",
    "        print('Removing stopwords...')\n",
    "        dataset = dataset.apply(remove_stopwords)\n",
    "     \n",
    "    if stemming:\n",
    "        print('Stemming text...')\n",
    "        dataset = dataset.apply(stemmer)\n",
    "    \n",
    "    if tokens:\n",
    "        print('Tokenizing text...')\n",
    "        dataset = dataset.apply(tokenize)\n",
    "    \n",
    "    print('Done.')\n",
    "    return dataset"
   ]
  },
  {
   "cell_type": "code",
   "execution_count": 29,
   "id": "2491c7f8",
   "metadata": {},
   "outputs": [
    {
     "name": "stdout",
     "output_type": "stream",
     "text": [
      "Stripping html tags...\n",
      "Removing URLs...\n",
      "Removing punctuation...\n",
      "Removing special characters...\n",
      "Converting to lower case...\n",
      "Removing stopwords...\n",
      "Stemming text...\n",
      "Done.\n"
     ]
    }
   ],
   "source": [
    "# clean reviews in dataset\n",
    "imdb_data['prep'] = clean(imdb_data['review'],spelling=False, tokens=False)"
   ]
  },
  {
   "cell_type": "code",
   "execution_count": 30,
   "id": "77142333",
   "metadata": {},
   "outputs": [],
   "source": [
    "imdb_data.to_csv('data/Cleaned_dataset.csv')"
   ]
  },
  {
   "cell_type": "code",
   "execution_count": 31,
   "id": "f7b7f54f",
   "metadata": {},
   "outputs": [],
   "source": [
    "# imdb_data=pd.read_csv('data/Cleaned_dataset.csv')"
   ]
  },
  {
   "cell_type": "markdown",
   "id": "6f9816be",
   "metadata": {},
   "source": [
    "### Observe a sample cleaned review"
   ]
  },
  {
   "cell_type": "code",
   "execution_count": 32,
   "id": "a5023936",
   "metadata": {},
   "outputs": [
    {
     "data": {
      "text/plain": [
       "array(['one review mention watch 1 oz episod youll hook right exactli happen meth first thing struck oz brutal unflinch scene violenc set right word go trust show faint heart timid show pull punch regard drug sex violenc hardcor classic use wordit call oz nicknam given oswald maximum secur state penitentari focus mainli emerald citi experiment section prison cell glass front face inward privaci high agenda em citi home manyaryan muslim gangsta latino christian italian irish moreso scuffl death stare dodgi deal shadi agreement never far awayi would say main appeal show due fact goe show wouldnt dare forget pretti pictur paint mainstream audienc forget charm forget romanceoz doesnt mess around first episod ever saw struck nasti surreal couldnt say readi watch develop tast oz got accustom high level graphic violenc violenc injustic crook guard wholl sold nickel inmat wholl kill order get away well manner middl class inmat turn prison bitch due lack street skill prison experi watch oz may becom comfort uncomfort viewingthat get touch darker side'],\n",
       "      dtype=object)"
      ]
     },
     "execution_count": 32,
     "metadata": {},
     "output_type": "execute_result"
    }
   ],
   "source": [
    "sample_review = imdb_data['prep'].iloc[:1].values\n",
    "sample_review"
   ]
  },
  {
   "cell_type": "markdown",
   "id": "646b1897",
   "metadata": {},
   "source": [
    "### Split the dataset into training and testing"
   ]
  },
  {
   "cell_type": "code",
   "execution_count": 33,
   "id": "d77d26a0",
   "metadata": {},
   "outputs": [],
   "source": [
    "# split the dataset\n",
    "from sklearn.model_selection import train_test_split\n",
    "\n",
    "X = imdb_data[\"prep\"]\n",
    "y = np.array(imdb_data[\"sentiment\"])\n",
    "\n",
    "X_train, X_test, y_train, y_test = train_test_split(X, y, stratify=y, test_size=0.2, shuffle=True, random_state=25)"
   ]
  },
  {
   "cell_type": "markdown",
   "id": "cb28b8d2",
   "metadata": {},
   "source": [
    "## Bag of words model\n",
    "This is used to convert text documents to numerical vectors or a bag of words."
   ]
  },
  {
   "cell_type": "code",
   "execution_count": 34,
   "id": "0d8005f9",
   "metadata": {},
   "outputs": [],
   "source": [
    "# create bag of words with maximum 10000 words\n",
    "cv = CountVectorizer(max_features=10000)\n",
    "    #min_df=0,max_df=1,binary=False,ngram_range=(1,3))\n",
    "\n",
    "# convert train data to feature vector matrix\n",
    "x_train = cv.fit_transform(X_train)"
   ]
  },
  {
   "cell_type": "code",
   "execution_count": 35,
   "id": "15cd6ceb",
   "metadata": {},
   "outputs": [],
   "source": [
    "# ML algorithm requires array for training process\n",
    "x_train = x_train.toarray()"
   ]
  },
  {
   "cell_type": "code",
   "execution_count": 36,
   "id": "d288edb8",
   "metadata": {},
   "outputs": [
    {
     "name": "stdout",
     "output_type": "stream",
     "text": [
      "Total training data : 40000\n",
      "Total training data : 40000\n"
     ]
    }
   ],
   "source": [
    "print(\"Total training data :\", x_train.shape[0])\n",
    "print(\"Total training data :\", y_train.shape[0])"
   ]
  },
  {
   "cell_type": "markdown",
   "id": "95e54744",
   "metadata": {},
   "source": [
    "## Model evaluation\n",
    "We will consider six models:\n",
    "- Logistic Regression\n",
    "- Random Forest Classification\n",
    "- Decision Tree Classification\n",
    "- Stochastic Gradient Descent\n",
    "- Gaussian Naive Bayesian\n",
    "- Multinomial Naive Bayesian"
   ]
  },
  {
   "cell_type": "code",
   "execution_count": 43,
   "id": "a4ed0d4c",
   "metadata": {},
   "outputs": [],
   "source": [
    "models = []\n",
    "\n",
    "models.append(('Logistic Regression', LogisticRegression()))\n",
    "models.append(('Random Forest Classifier', RandomForestClassifier()))\n",
    "models.append(('Decision Tree Classifier', DecisionTreeClassifier()))\n",
    "models.append(('Stochastic Gradient Descent', SGDClassifier()))\n",
    "models.append(('Gaussian Naive Bayesian', GaussianNB()))\n",
    "models.append(('Multinomial Naive Bayesian', MultinomialNB()))"
   ]
  },
  {
   "cell_type": "markdown",
   "id": "7202e592",
   "metadata": {},
   "source": [
    "Convert test data to vector matrix feature"
   ]
  },
  {
   "cell_type": "code",
   "execution_count": 44,
   "id": "df0346af",
   "metadata": {},
   "outputs": [],
   "source": [
    "x_test = cv.transform(X_test)\n",
    "x_test = x_test.toarray()"
   ]
  },
  {
   "cell_type": "markdown",
   "id": "2ab039ae",
   "metadata": {},
   "source": [
    "Train and analyse accuracy of the three models"
   ]
  },
  {
   "cell_type": "code",
   "execution_count": 45,
   "id": "3427ba63",
   "metadata": {},
   "outputs": [
    {
     "name": "stdout",
     "output_type": "stream",
     "text": [
      "CPU times: user 1min 6s, sys: 14.7 s, total: 1min 21s\n",
      "Wall time: 10.3 s\n",
      "Logistic Regression Accuracy Score :  0.8732\n",
      "Logistic Regression F1 Score :  0.8731897283679977\n",
      "\n",
      "\n",
      "CPU times: user 59.6 s, sys: 1.5 s, total: 1min 1s\n",
      "Wall time: 1min\n",
      "Random Forest Classifier Accuracy Score :  0.8454\n",
      "Random Forest Classifier F1 Score :  0.8453999010559368\n",
      "\n",
      "\n",
      "CPU times: user 1min 25s, sys: 881 ms, total: 1min 26s\n",
      "Wall time: 1min 26s\n",
      "Decision Tree Classifier Accuracy Score :  0.7197\n",
      "Decision Tree Classifier F1 Score :  0.7196927092073665\n",
      "\n",
      "\n",
      "CPU times: user 27.5 s, sys: 1.01 s, total: 28.5 s\n",
      "Wall time: 28.6 s\n",
      "Stochastic Gradient Descent Accuracy Score :  0.8716\n",
      "Stochastic Gradient Descent F1 Score :  0.8715886535734299\n",
      "\n",
      "\n",
      "CPU times: user 3.01 s, sys: 2.19 s, total: 5.21 s\n",
      "Wall time: 4.48 s\n",
      "Gaussian Naive Bayesian Accuracy Score :  0.7104\n",
      "Gaussian Naive Bayesian F1 Score :  0.7035138846413476\n",
      "\n",
      "\n",
      "CPU times: user 4.56 s, sys: 8.33 ms, total: 4.56 s\n",
      "Wall time: 4.57 s\n",
      "Multinomial Naive Bayesian Accuracy Score :  0.8468\n",
      "Multinomial Naive Bayesian F1 Score :  0.8467827845136678\n",
      "\n",
      "\n"
     ]
    }
   ],
   "source": [
    "for name, model in models:\n",
    "\n",
    "    %time model.fit(x_train, y_train)\n",
    "    prediction = model.predict(x_test)\n",
    "    print(name ,'Accuracy Score : ',accuracy_score(y_test, prediction))\n",
    "    print(name ,'F1 Score : ',f1_score(y_test, prediction, average='weighted'))\n",
    "    print('\\n')"
   ]
  },
  {
   "cell_type": "markdown",
   "id": "440c81f6",
   "metadata": {},
   "source": [
    "We see that logistic regression and stochastic gradient descent produce the highest accuracies and F1 scores, however, SGD is significantly quicker than logistic regression.\n",
    "\n",
    "The Multinomial Naive Bayesian model performs comparatively to random forests, still to an accuracy and F1 score approaching SGD, but in a fraction of the time."
   ]
  },
  {
   "cell_type": "markdown",
   "id": "a4a04406",
   "metadata": {},
   "source": [
    "## Model improvements\n",
    "The model could potentially be improved by further pre-processing such as removing emojis, removing contraction (i.e. converting \"you're\" to \"you are\") or calculating positive and negative words in a sentence.\n",
    "\n",
    "We could also consider using tf-idf (term frequency-inverse document frequency) as a weighting factor to reflect importance of words in the reviews."
   ]
  },
  {
   "cell_type": "code",
   "execution_count": null,
   "id": "ccd3ecbf",
   "metadata": {},
   "outputs": [],
   "source": []
  }
 ],
 "metadata": {
  "kernelspec": {
   "display_name": "Python 3 (ipykernel)",
   "language": "python",
   "name": "python3"
  },
  "language_info": {
   "codemirror_mode": {
    "name": "ipython",
    "version": 3
   },
   "file_extension": ".py",
   "mimetype": "text/x-python",
   "name": "python",
   "nbconvert_exporter": "python",
   "pygments_lexer": "ipython3",
   "version": "3.7.5"
  }
 },
 "nbformat": 4,
 "nbformat_minor": 5
}
